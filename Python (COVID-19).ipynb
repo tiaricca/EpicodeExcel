{
 "cells": [
  {
   "cell_type": "code",
   "execution_count": 1,
   "id": "dcf7614d-03ac-4610-8ba9-937be6c4b45d",
   "metadata": {},
   "outputs": [],
   "source": [
    "import pandas as pd\n",
    "import numpy as np\n",
    "import seaborn as sns\n",
    "import matplotlib.pyplot as plt"
   ]
  },
  {
   "cell_type": "code",
   "execution_count": 2,
   "id": "e9a77496-832f-40a2-8d45-8191b232c3a7",
   "metadata": {},
   "outputs": [],
   "source": [
    "df = pd.read_csv(\"C:/Users/tiari/Downloads/owid-covid-data.csv\")"
   ]
  },
  {
   "cell_type": "code",
   "execution_count": 3,
   "id": "f18ab798-4d00-4d4f-bc31-f104ec221f06",
   "metadata": {},
   "outputs": [
    {
     "data": {
      "text/plain": [
       "(429435, 67)"
      ]
     },
     "execution_count": 3,
     "metadata": {},
     "output_type": "execute_result"
    }
   ],
   "source": [
    "# verificare le dimensioni del dataset e i relativi metadati\n",
    "df.shape"
   ]
  },
  {
   "cell_type": "code",
   "execution_count": 4,
   "id": "aa930a7c-a77a-409b-ac30-4a062eabdb13",
   "metadata": {},
   "outputs": [
    {
     "name": "stdout",
     "output_type": "stream",
     "text": [
      "<class 'pandas.core.frame.DataFrame'>\n",
      "RangeIndex: 429435 entries, 0 to 429434\n",
      "Data columns (total 67 columns):\n",
      " #   Column                                      Non-Null Count   Dtype  \n",
      "---  ------                                      --------------   -----  \n",
      " 0   iso_code                                    429435 non-null  object \n",
      " 1   continent                                   402910 non-null  object \n",
      " 2   location                                    429435 non-null  object \n",
      " 3   date                                        429435 non-null  object \n",
      " 4   total_cases                                 411804 non-null  float64\n",
      " 5   new_cases                                   410159 non-null  float64\n",
      " 6   new_cases_smoothed                          408929 non-null  float64\n",
      " 7   total_deaths                                411804 non-null  float64\n",
      " 8   new_deaths                                  410608 non-null  float64\n",
      " 9   new_deaths_smoothed                         409378 non-null  float64\n",
      " 10  total_cases_per_million                     411804 non-null  float64\n",
      " 11  new_cases_per_million                       410159 non-null  float64\n",
      " 12  new_cases_smoothed_per_million              408929 non-null  float64\n",
      " 13  total_deaths_per_million                    411804 non-null  float64\n",
      " 14  new_deaths_per_million                      410608 non-null  float64\n",
      " 15  new_deaths_smoothed_per_million             409378 non-null  float64\n",
      " 16  reproduction_rate                           184817 non-null  float64\n",
      " 17  icu_patients                                39116 non-null   float64\n",
      " 18  icu_patients_per_million                    39116 non-null   float64\n",
      " 19  hosp_patients                               40656 non-null   float64\n",
      " 20  hosp_patients_per_million                   40656 non-null   float64\n",
      " 21  weekly_icu_admissions                       10993 non-null   float64\n",
      " 22  weekly_icu_admissions_per_million           10993 non-null   float64\n",
      " 23  weekly_hosp_admissions                      24497 non-null   float64\n",
      " 24  weekly_hosp_admissions_per_million          24497 non-null   float64\n",
      " 25  total_tests                                 79387 non-null   float64\n",
      " 26  new_tests                                   75403 non-null   float64\n",
      " 27  total_tests_per_thousand                    79387 non-null   float64\n",
      " 28  new_tests_per_thousand                      75403 non-null   float64\n",
      " 29  new_tests_smoothed                          103965 non-null  float64\n",
      " 30  new_tests_smoothed_per_thousand             103965 non-null  float64\n",
      " 31  positive_rate                               95927 non-null   float64\n",
      " 32  tests_per_case                              94348 non-null   float64\n",
      " 33  tests_units                                 106788 non-null  object \n",
      " 34  total_vaccinations                          85417 non-null   float64\n",
      " 35  people_vaccinated                           81132 non-null   float64\n",
      " 36  people_fully_vaccinated                     78061 non-null   float64\n",
      " 37  total_boosters                              53600 non-null   float64\n",
      " 38  new_vaccinations                            70971 non-null   float64\n",
      " 39  new_vaccinations_smoothed                   195029 non-null  float64\n",
      " 40  total_vaccinations_per_hundred              85417 non-null   float64\n",
      " 41  people_vaccinated_per_hundred               81132 non-null   float64\n",
      " 42  people_fully_vaccinated_per_hundred         78061 non-null   float64\n",
      " 43  total_boosters_per_hundred                  53600 non-null   float64\n",
      " 44  new_vaccinations_smoothed_per_million       195029 non-null  float64\n",
      " 45  new_people_vaccinated_smoothed              192177 non-null  float64\n",
      " 46  new_people_vaccinated_smoothed_per_hundred  192177 non-null  float64\n",
      " 47  stringency_index                            196190 non-null  float64\n",
      " 48  population_density                          360492 non-null  float64\n",
      " 49  median_age                                  334663 non-null  float64\n",
      " 50  aged_65_older                               323270 non-null  float64\n",
      " 51  aged_70_older                               331315 non-null  float64\n",
      " 52  gdp_per_capita                              328292 non-null  float64\n",
      " 53  extreme_poverty                             211996 non-null  float64\n",
      " 54  cardiovasc_death_rate                       328865 non-null  float64\n",
      " 55  diabetes_prevalence                         345911 non-null  float64\n",
      " 56  female_smokers                              247165 non-null  float64\n",
      " 57  male_smokers                                243817 non-null  float64\n",
      " 58  handwashing_facilities                      161741 non-null  float64\n",
      " 59  hospital_beds_per_thousand                  290689 non-null  float64\n",
      " 60  life_expectancy                             390299 non-null  float64\n",
      " 61  human_development_index                     319127 non-null  float64\n",
      " 62  population                                  429435 non-null  int64  \n",
      " 63  excess_mortality_cumulative_absolute        13411 non-null   float64\n",
      " 64  excess_mortality_cumulative                 13411 non-null   float64\n",
      " 65  excess_mortality                            13411 non-null   float64\n",
      " 66  excess_mortality_cumulative_per_million     13411 non-null   float64\n",
      "dtypes: float64(61), int64(1), object(5)\n",
      "memory usage: 219.5+ MB\n"
     ]
    }
   ],
   "source": [
    "df.info()"
   ]
  },
  {
   "cell_type": "code",
   "execution_count": 5,
   "id": "53f610e5-5e02-40e6-bcff-d33043ba917b",
   "metadata": {},
   "outputs": [
    {
     "data": {
      "text/html": [
       "<div>\n",
       "<style scoped>\n",
       "    .dataframe tbody tr th:only-of-type {\n",
       "        vertical-align: middle;\n",
       "    }\n",
       "\n",
       "    .dataframe tbody tr th {\n",
       "        vertical-align: top;\n",
       "    }\n",
       "\n",
       "    .dataframe thead th {\n",
       "        text-align: right;\n",
       "    }\n",
       "</style>\n",
       "<table border=\"1\" class=\"dataframe\">\n",
       "  <thead>\n",
       "    <tr style=\"text-align: right;\">\n",
       "      <th></th>\n",
       "      <th>iso_code</th>\n",
       "      <th>continent</th>\n",
       "      <th>location</th>\n",
       "      <th>date</th>\n",
       "      <th>total_cases</th>\n",
       "      <th>new_cases</th>\n",
       "      <th>new_cases_smoothed</th>\n",
       "      <th>total_deaths</th>\n",
       "      <th>new_deaths</th>\n",
       "      <th>new_deaths_smoothed</th>\n",
       "      <th>...</th>\n",
       "      <th>male_smokers</th>\n",
       "      <th>handwashing_facilities</th>\n",
       "      <th>hospital_beds_per_thousand</th>\n",
       "      <th>life_expectancy</th>\n",
       "      <th>human_development_index</th>\n",
       "      <th>population</th>\n",
       "      <th>excess_mortality_cumulative_absolute</th>\n",
       "      <th>excess_mortality_cumulative</th>\n",
       "      <th>excess_mortality</th>\n",
       "      <th>excess_mortality_cumulative_per_million</th>\n",
       "    </tr>\n",
       "  </thead>\n",
       "  <tbody>\n",
       "    <tr>\n",
       "      <th>216783</th>\n",
       "      <td>LTU</td>\n",
       "      <td>Europe</td>\n",
       "      <td>Lithuania</td>\n",
       "      <td>2023-10-09</td>\n",
       "      <td>1331558.0</td>\n",
       "      <td>0.0</td>\n",
       "      <td>231.429</td>\n",
       "      <td>9714.0</td>\n",
       "      <td>0.0</td>\n",
       "      <td>0.571</td>\n",
       "      <td>...</td>\n",
       "      <td>38.0</td>\n",
       "      <td>NaN</td>\n",
       "      <td>6.56</td>\n",
       "      <td>75.93</td>\n",
       "      <td>0.882</td>\n",
       "      <td>2750058</td>\n",
       "      <td>NaN</td>\n",
       "      <td>NaN</td>\n",
       "      <td>NaN</td>\n",
       "      <td>NaN</td>\n",
       "    </tr>\n",
       "    <tr>\n",
       "      <th>304799</th>\n",
       "      <td>PCN</td>\n",
       "      <td>Oceania</td>\n",
       "      <td>Pitcairn</td>\n",
       "      <td>2021-03-14</td>\n",
       "      <td>0.0</td>\n",
       "      <td>0.0</td>\n",
       "      <td>0.000</td>\n",
       "      <td>0.0</td>\n",
       "      <td>0.0</td>\n",
       "      <td>0.000</td>\n",
       "      <td>...</td>\n",
       "      <td>NaN</td>\n",
       "      <td>NaN</td>\n",
       "      <td>NaN</td>\n",
       "      <td>NaN</td>\n",
       "      <td>NaN</td>\n",
       "      <td>47</td>\n",
       "      <td>NaN</td>\n",
       "      <td>NaN</td>\n",
       "      <td>NaN</td>\n",
       "      <td>NaN</td>\n",
       "    </tr>\n",
       "    <tr>\n",
       "      <th>90555</th>\n",
       "      <td>CYP</td>\n",
       "      <td>Europe</td>\n",
       "      <td>Cyprus</td>\n",
       "      <td>2020-05-29</td>\n",
       "      <td>927.0</td>\n",
       "      <td>0.0</td>\n",
       "      <td>1.857</td>\n",
       "      <td>17.0</td>\n",
       "      <td>0.0</td>\n",
       "      <td>0.000</td>\n",
       "      <td>...</td>\n",
       "      <td>52.7</td>\n",
       "      <td>NaN</td>\n",
       "      <td>3.40</td>\n",
       "      <td>80.98</td>\n",
       "      <td>0.887</td>\n",
       "      <td>896007</td>\n",
       "      <td>NaN</td>\n",
       "      <td>NaN</td>\n",
       "      <td>NaN</td>\n",
       "      <td>NaN</td>\n",
       "    </tr>\n",
       "    <tr>\n",
       "      <th>365459</th>\n",
       "      <td>LKA</td>\n",
       "      <td>Asia</td>\n",
       "      <td>Sri Lanka</td>\n",
       "      <td>2023-04-18</td>\n",
       "      <td>672104.0</td>\n",
       "      <td>0.0</td>\n",
       "      <td>2.143</td>\n",
       "      <td>16835.0</td>\n",
       "      <td>0.0</td>\n",
       "      <td>0.143</td>\n",
       "      <td>...</td>\n",
       "      <td>27.0</td>\n",
       "      <td>NaN</td>\n",
       "      <td>3.60</td>\n",
       "      <td>76.98</td>\n",
       "      <td>0.782</td>\n",
       "      <td>21832150</td>\n",
       "      <td>NaN</td>\n",
       "      <td>NaN</td>\n",
       "      <td>NaN</td>\n",
       "      <td>NaN</td>\n",
       "    </tr>\n",
       "    <tr>\n",
       "      <th>422724</th>\n",
       "      <td>WLF</td>\n",
       "      <td>Oceania</td>\n",
       "      <td>Wallis and Futuna</td>\n",
       "      <td>2024-08-01</td>\n",
       "      <td>3760.0</td>\n",
       "      <td>0.0</td>\n",
       "      <td>0.000</td>\n",
       "      <td>9.0</td>\n",
       "      <td>0.0</td>\n",
       "      <td>0.000</td>\n",
       "      <td>...</td>\n",
       "      <td>NaN</td>\n",
       "      <td>NaN</td>\n",
       "      <td>NaN</td>\n",
       "      <td>79.94</td>\n",
       "      <td>NaN</td>\n",
       "      <td>11596</td>\n",
       "      <td>NaN</td>\n",
       "      <td>NaN</td>\n",
       "      <td>NaN</td>\n",
       "      <td>NaN</td>\n",
       "    </tr>\n",
       "    <tr>\n",
       "      <th>38574</th>\n",
       "      <td>BEN</td>\n",
       "      <td>Africa</td>\n",
       "      <td>Benin</td>\n",
       "      <td>2020-03-03</td>\n",
       "      <td>0.0</td>\n",
       "      <td>0.0</td>\n",
       "      <td>0.000</td>\n",
       "      <td>0.0</td>\n",
       "      <td>0.0</td>\n",
       "      <td>0.000</td>\n",
       "      <td>...</td>\n",
       "      <td>12.3</td>\n",
       "      <td>11.035</td>\n",
       "      <td>0.50</td>\n",
       "      <td>61.77</td>\n",
       "      <td>0.545</td>\n",
       "      <td>13352864</td>\n",
       "      <td>NaN</td>\n",
       "      <td>NaN</td>\n",
       "      <td>NaN</td>\n",
       "      <td>NaN</td>\n",
       "    </tr>\n",
       "    <tr>\n",
       "      <th>19382</th>\n",
       "      <td>ABW</td>\n",
       "      <td>North America</td>\n",
       "      <td>Aruba</td>\n",
       "      <td>2022-08-26</td>\n",
       "      <td>42638.0</td>\n",
       "      <td>0.0</td>\n",
       "      <td>22.857</td>\n",
       "      <td>227.0</td>\n",
       "      <td>0.0</td>\n",
       "      <td>0.143</td>\n",
       "      <td>...</td>\n",
       "      <td>NaN</td>\n",
       "      <td>NaN</td>\n",
       "      <td>NaN</td>\n",
       "      <td>76.29</td>\n",
       "      <td>NaN</td>\n",
       "      <td>106459</td>\n",
       "      <td>NaN</td>\n",
       "      <td>NaN</td>\n",
       "      <td>NaN</td>\n",
       "      <td>NaN</td>\n",
       "    </tr>\n",
       "    <tr>\n",
       "      <th>161256</th>\n",
       "      <td>GUY</td>\n",
       "      <td>South America</td>\n",
       "      <td>Guyana</td>\n",
       "      <td>2022-01-31</td>\n",
       "      <td>58979.0</td>\n",
       "      <td>0.0</td>\n",
       "      <td>478.714</td>\n",
       "      <td>1160.0</td>\n",
       "      <td>0.0</td>\n",
       "      <td>5.429</td>\n",
       "      <td>...</td>\n",
       "      <td>NaN</td>\n",
       "      <td>77.159</td>\n",
       "      <td>1.60</td>\n",
       "      <td>69.91</td>\n",
       "      <td>0.682</td>\n",
       "      <td>808727</td>\n",
       "      <td>NaN</td>\n",
       "      <td>NaN</td>\n",
       "      <td>NaN</td>\n",
       "      <td>NaN</td>\n",
       "    </tr>\n",
       "    <tr>\n",
       "      <th>180533</th>\n",
       "      <td>IRL</td>\n",
       "      <td>Europe</td>\n",
       "      <td>Ireland</td>\n",
       "      <td>2020-10-11</td>\n",
       "      <td>40703.0</td>\n",
       "      <td>3640.0</td>\n",
       "      <td>520.000</td>\n",
       "      <td>1797.0</td>\n",
       "      <td>14.0</td>\n",
       "      <td>2.000</td>\n",
       "      <td>...</td>\n",
       "      <td>25.7</td>\n",
       "      <td>NaN</td>\n",
       "      <td>2.96</td>\n",
       "      <td>82.30</td>\n",
       "      <td>0.955</td>\n",
       "      <td>5023108</td>\n",
       "      <td>1319.2999</td>\n",
       "      <td>5.38</td>\n",
       "      <td>8.24</td>\n",
       "      <td>266.73416</td>\n",
       "    </tr>\n",
       "    <tr>\n",
       "      <th>6218</th>\n",
       "      <td>DZA</td>\n",
       "      <td>Africa</td>\n",
       "      <td>Algeria</td>\n",
       "      <td>2023-04-15</td>\n",
       "      <td>271613.0</td>\n",
       "      <td>0.0</td>\n",
       "      <td>3.000</td>\n",
       "      <td>6881.0</td>\n",
       "      <td>0.0</td>\n",
       "      <td>0.000</td>\n",
       "      <td>...</td>\n",
       "      <td>30.4</td>\n",
       "      <td>83.741</td>\n",
       "      <td>1.90</td>\n",
       "      <td>76.88</td>\n",
       "      <td>0.748</td>\n",
       "      <td>44903228</td>\n",
       "      <td>NaN</td>\n",
       "      <td>NaN</td>\n",
       "      <td>NaN</td>\n",
       "      <td>NaN</td>\n",
       "    </tr>\n",
       "  </tbody>\n",
       "</table>\n",
       "<p>10 rows × 67 columns</p>\n",
       "</div>"
      ],
      "text/plain": [
       "       iso_code      continent           location        date  total_cases  \\\n",
       "216783      LTU         Europe          Lithuania  2023-10-09    1331558.0   \n",
       "304799      PCN        Oceania           Pitcairn  2021-03-14          0.0   \n",
       "90555       CYP         Europe             Cyprus  2020-05-29        927.0   \n",
       "365459      LKA           Asia          Sri Lanka  2023-04-18     672104.0   \n",
       "422724      WLF        Oceania  Wallis and Futuna  2024-08-01       3760.0   \n",
       "38574       BEN         Africa              Benin  2020-03-03          0.0   \n",
       "19382       ABW  North America              Aruba  2022-08-26      42638.0   \n",
       "161256      GUY  South America             Guyana  2022-01-31      58979.0   \n",
       "180533      IRL         Europe            Ireland  2020-10-11      40703.0   \n",
       "6218        DZA         Africa            Algeria  2023-04-15     271613.0   \n",
       "\n",
       "        new_cases  new_cases_smoothed  total_deaths  new_deaths  \\\n",
       "216783        0.0             231.429        9714.0         0.0   \n",
       "304799        0.0               0.000           0.0         0.0   \n",
       "90555         0.0               1.857          17.0         0.0   \n",
       "365459        0.0               2.143       16835.0         0.0   \n",
       "422724        0.0               0.000           9.0         0.0   \n",
       "38574         0.0               0.000           0.0         0.0   \n",
       "19382         0.0              22.857         227.0         0.0   \n",
       "161256        0.0             478.714        1160.0         0.0   \n",
       "180533     3640.0             520.000        1797.0        14.0   \n",
       "6218          0.0               3.000        6881.0         0.0   \n",
       "\n",
       "        new_deaths_smoothed  ...  male_smokers  handwashing_facilities  \\\n",
       "216783                0.571  ...          38.0                     NaN   \n",
       "304799                0.000  ...           NaN                     NaN   \n",
       "90555                 0.000  ...          52.7                     NaN   \n",
       "365459                0.143  ...          27.0                     NaN   \n",
       "422724                0.000  ...           NaN                     NaN   \n",
       "38574                 0.000  ...          12.3                  11.035   \n",
       "19382                 0.143  ...           NaN                     NaN   \n",
       "161256                5.429  ...           NaN                  77.159   \n",
       "180533                2.000  ...          25.7                     NaN   \n",
       "6218                  0.000  ...          30.4                  83.741   \n",
       "\n",
       "        hospital_beds_per_thousand  life_expectancy  human_development_index  \\\n",
       "216783                        6.56            75.93                    0.882   \n",
       "304799                         NaN              NaN                      NaN   \n",
       "90555                         3.40            80.98                    0.887   \n",
       "365459                        3.60            76.98                    0.782   \n",
       "422724                         NaN            79.94                      NaN   \n",
       "38574                         0.50            61.77                    0.545   \n",
       "19382                          NaN            76.29                      NaN   \n",
       "161256                        1.60            69.91                    0.682   \n",
       "180533                        2.96            82.30                    0.955   \n",
       "6218                          1.90            76.88                    0.748   \n",
       "\n",
       "        population  excess_mortality_cumulative_absolute  \\\n",
       "216783     2750058                                   NaN   \n",
       "304799          47                                   NaN   \n",
       "90555       896007                                   NaN   \n",
       "365459    21832150                                   NaN   \n",
       "422724       11596                                   NaN   \n",
       "38574     13352864                                   NaN   \n",
       "19382       106459                                   NaN   \n",
       "161256      808727                                   NaN   \n",
       "180533     5023108                             1319.2999   \n",
       "6218      44903228                                   NaN   \n",
       "\n",
       "        excess_mortality_cumulative  excess_mortality  \\\n",
       "216783                          NaN               NaN   \n",
       "304799                          NaN               NaN   \n",
       "90555                           NaN               NaN   \n",
       "365459                          NaN               NaN   \n",
       "422724                          NaN               NaN   \n",
       "38574                           NaN               NaN   \n",
       "19382                           NaN               NaN   \n",
       "161256                          NaN               NaN   \n",
       "180533                         5.38              8.24   \n",
       "6218                            NaN               NaN   \n",
       "\n",
       "        excess_mortality_cumulative_per_million  \n",
       "216783                                      NaN  \n",
       "304799                                      NaN  \n",
       "90555                                       NaN  \n",
       "365459                                      NaN  \n",
       "422724                                      NaN  \n",
       "38574                                       NaN  \n",
       "19382                                       NaN  \n",
       "161256                                      NaN  \n",
       "180533                                266.73416  \n",
       "6218                                        NaN  \n",
       "\n",
       "[10 rows x 67 columns]"
      ]
     },
     "execution_count": 5,
     "metadata": {},
     "output_type": "execute_result"
    }
   ],
   "source": [
    "df.sample(10)"
   ]
  },
  {
   "cell_type": "code",
   "execution_count": 6,
   "id": "944a0906-49e4-4aac-bfd2-048822f4f597",
   "metadata": {},
   "outputs": [
    {
     "data": {
      "text/plain": [
       "continent\n",
       "Africa           95419\n",
       "Europe           91031\n",
       "Asia             84199\n",
       "North America    68638\n",
       "Oceania          40183\n",
       "NaN              26525\n",
       "South America    23440\n",
       "Name: count, dtype: int64"
      ]
     },
     "execution_count": 6,
     "metadata": {},
     "output_type": "execute_result"
    }
   ],
   "source": [
    "# controllo dei valori \n",
    "df.continent.value_counts(dropna = False)"
   ]
  },
  {
   "cell_type": "code",
   "execution_count": 7,
   "id": "e954fb44-b4c8-404c-bb9b-74b87dc4a541",
   "metadata": {},
   "outputs": [],
   "source": [
    "# Si chiede di trovare, per ogni continente:"
   ]
  },
  {
   "cell_type": "code",
   "execution_count": 8,
   "id": "861c8343-b12b-45e0-842c-328ad9143457",
   "metadata": {},
   "outputs": [
    {
     "data": {
      "text/plain": [
       "continent\n",
       "Africa           1.461689e+10\n",
       "Asia             2.521673e+11\n",
       "Europe           2.367567e+11\n",
       "North America    1.270737e+11\n",
       "Oceania          1.159805e+10\n",
       "South America    7.348457e+10\n",
       "NaN              2.317360e+12\n",
       "Name: total_cases, dtype: float64"
      ]
     },
     "execution_count": 8,
     "metadata": {},
     "output_type": "execute_result"
    }
   ],
   "source": [
    "# a. il numero di casi fin dall'inizio della pandemia\n",
    "group_continent = df.groupby(\"continent\", dropna = False)\n",
    "casi_totali = group_continent[\"total_cases\"].sum()\n",
    "casi_totali"
   ]
  },
  {
   "cell_type": "code",
   "execution_count": 9,
   "id": "2e766cce-c378-4198-8b1a-5a1feba18154",
   "metadata": {},
   "outputs": [
    {
     "name": "stdout",
     "output_type": "stream",
     "text": [
      "continent\n",
      "Africa            0.48\n",
      "Asia              8.31\n",
      "Europe            7.81\n",
      "North America     4.19\n",
      "Oceania           0.38\n",
      "South America     2.42\n",
      "NaN              76.40\n",
      "Name: total_cases, dtype: float64\n"
     ]
    }
   ],
   "source": [
    "# b. la percentuale rispetto al totale mondiale del numero di casi\n",
    "print(round(100 * casi_totali / df.total_cases.sum(), 2))"
   ]
  },
  {
   "cell_type": "code",
   "execution_count": 10,
   "id": "249fb22f-7ed4-4f56-a80e-a07ab8fa393b",
   "metadata": {},
   "outputs": [],
   "source": [
    "# Selezionare i dati relativi all'Italia nel 2022 e mostrare con dei grafici adeguati: \n",
    "df.date = pd.to_datetime(df.date)\n",
    "filtro_italy = df.location == \"Italy\"\n",
    "filtro_2022 = df.date.dt.year == 2022\n",
    "ita_2022 = filtro_italy & filtro_2022\n",
    "ita_2022 = df[ita_2022]"
   ]
  },
  {
   "cell_type": "code",
   "execution_count": 11,
   "id": "e1185e66-0698-4b3e-adce-6247b9e526f8",
   "metadata": {},
   "outputs": [],
   "source": [
    "# a. l'evoluzione del casi totali dall'inizio alla fine dell'anno"
   ]
  },
  {
   "cell_type": "code",
   "execution_count": 12,
   "id": "ed8b6fab-d37e-4c7d-89bf-0469c614fe86",
   "metadata": {},
   "outputs": [
    {
     "data": {
      "text/plain": [
       "<Axes: xlabel='date'>"
      ]
     },
     "execution_count": 12,
     "metadata": {},
     "output_type": "execute_result"
    },
    {
     "data": {
      "image/png": "[encoded data removed]",
      "text/plain": [
       "<Figure size 640x480 with 1 Axes>"
      ]
     },
     "metadata": {},
     "output_type": "display_data"
    }
   ],
   "source": [
    "ita_2022.plot(kind =\"line\",x =\"date\", y =\"total_cases\")"
   ]
  },
  {
   "cell_type": "code",
   "execution_count": 13,
   "id": "3c20cd1d-60b1-498e-8763-b3c8ff771866",
   "metadata": {},
   "outputs": [
    {
     "data": {
      "text/plain": [
       "<Axes: xlabel='date'>"
      ]
     },
     "execution_count": 13,
     "metadata": {},
     "output_type": "execute_result"
    },
    {
     "data": {
      "image/png": "[encoded data removed]",
      "text/plain": [
       "<Figure size 640x480 with 1 Axes>"
      ]
     },
     "metadata": {},
     "output_type": "display_data"
    }
   ],
   "source": [
    "# b. il numero di nuovi casi rispetto alla data\n",
    "filtro_dal2023 =  df.date >= \"2023-01-01\"\n",
    "new_cas = (filtro_italy & filtro_dal2023)\n",
    "new_cas = df[new_cas]\n",
    "new_cas.plot(kind=\"line\", x=\"date\", y=\"total_cases\")"
   ]
  },
  {
   "cell_type": "code",
   "execution_count": 14,
   "id": "80073ef6-1f13-45df-b06a-7f9995bfada9",
   "metadata": {},
   "outputs": [
    {
     "data": {
      "text/plain": [
       "<Axes: xlabel='date'>"
      ]
     },
     "execution_count": 14,
     "metadata": {},
     "output_type": "execute_result"
    },
    {
     "data": {
      "image/png": "[encoded data removed]",
      "text/plain": [
       "<Figure size 640x480 with 1 Axes>"
      ]
     },
     "metadata": {},
     "output_type": "display_data"
    }
   ],
   "source": [
    "# k. poiché i nuovi casi vengono registrati settimanalmente, filtrare via i dati che non hanno misurazioni\n",
    "new_cas_weekly = new_cas.loc[new_cas[\"new_cases\"] > 0]\n",
    "new_cas_weekly.plot(kind=\"line\", x=\"date\", y=\"total_cases\")"
   ]
  },
  {
   "cell_type": "code",
   "execution_count": 15,
   "id": "d5b42e59-c8df-4a77-b453-3d8315eb5ac3",
   "metadata": {},
   "outputs": [],
   "source": [
    "# Riguardo le nazioni di Italia, Germania e Francia mostrare in un boxplot la differenza tra queste nazioni riguardo il numero di pazienti in terapia intensiva (Intensive Care Unit, ICU) da maggio 2022 (incluso) ad aprile 2023 (incluso) "
   ]
  },
  {
   "cell_type": "code",
   "execution_count": 16,
   "id": "098b7459-38b0-476b-899d-aa09888e527b",
   "metadata": {},
   "outputs": [],
   "source": [
    "filtro_mag22 = df.date >= \"2022-05-01\"\n",
    "filtro_apr23 = df.date <= \"2023-04-30\"\n",
    "filtro_date = filtro_mag22 & filtro_apr23\n",
    "ita = df.iso_code  == \"ITA\"\n",
    "deu = df.iso_code  == \"DEU\"\n",
    "fra = df.iso_code  == \"FRA\"\n",
    "paesi = ita | deu | fra\n",
    "dfa = df.loc[paesi & filtro_date]"
   ]
  },
  {
   "cell_type": "code",
   "execution_count": 17,
   "id": "3d4741c0-c0cd-434c-b8b3-4c02ab1afe5f",
   "metadata": {},
   "outputs": [
    {
     "data": {
      "text/plain": [
       "<Axes: xlabel='iso_code', ylabel='icu_patients'>"
      ]
     },
     "execution_count": 17,
     "metadata": {},
     "output_type": "execute_result"
    },
    {
     "data": {
      "image/png": "[encoded data removed]",
      "text/plain": [
       "<Figure size 640x480 with 1 Axes>"
      ]
     },
     "metadata": {},
     "output_type": "display_data"
    }
   ],
   "source": [
    "sns.boxplot(data =dfa, x=\"iso_code\", y=\"icu_patients\")"
   ]
  },
  {
   "cell_type": "code",
   "execution_count": 18,
   "id": "97593c3e-6903-4faf-ac9a-dd3e799c0a65",
   "metadata": {},
   "outputs": [],
   "source": [
    "#a. scrivere un breve commento a riguardo"
   ]
  },
  {
   "cell_type": "code",
   "execution_count": 19,
   "id": "02552c20-d0f5-4afe-8677-6235ea3abdeb",
   "metadata": {},
   "outputs": [],
   "source": [
    "# ---> dal boxplot qui sopra rappresentato possiamo notare in maniera visibilmente evidente 3 fattori: \n",
    "# 1. l'Italia è il paese con il minor numero di pazienti in terapia intensiva (ed effettivamente i dati tornano poichè siamo stati i primi ad iniziare con i vaccini e le cure)  \n",
    "# 2. la Germania è il paese con il numero massimo di pazienti in terapia intensiva più alto. \n",
    "# 3. la Francia e la Germania mostrano una mediana ed un range interquartile (IQR) molto simile, seppur in due contesti ben differenti (da notare il range di pazienti in terapia intensiva, che ci fa capire quanto fosse grave la situazione in Germania), guardando il grafico possiamo però notare il range interquartile tedesco tendente al basso, questo potrebbe significare un grande cambiamento in termini di cura e prevenzione (es.l'inizio dei vaccini, quindi delle cure, l'apertura di nuovi centri sanitari, l'inizio del lockdown)\n",
    "# Infine è giusto complimentarci qualche volta con l'Italia perché possiamo notare un range ristretto di pazienti in terapia intensiva, che va a significare un'ottima risposta rapida e decisa."
   ]
  },
  {
   "cell_type": "code",
   "execution_count": 20,
   "id": "de3e010d-55f2-4bc1-928a-c20a55d925e6",
   "metadata": {},
   "outputs": [],
   "source": [
    "# Riguardo le nazioni di Italia, Germania, Francia e Spagna in tutto il 2023:\n",
    "# a. mostrare la somma dei pazienti ospitalizzati per ognuna"
   ]
  },
  {
   "cell_type": "code",
   "execution_count": 21,
   "id": "ad0aca6e-9a5a-4ae8-b3de-30a401111b17",
   "metadata": {},
   "outputs": [
    {
     "name": "stderr",
     "output_type": "stream",
     "text": [
      "C:\\Users\\tiari\\AppData\\Local\\Temp\\ipykernel_42644\\1265946009.py:3: SettingWithCopyWarning: \n",
      "A value is trying to be set on a copy of a slice from a DataFrame.\n",
      "Try using .loc[row_indexer,col_indexer] = value instead\n",
      "\n",
      "See the caveats in the documentation: https://pandas.pydata.org/pandas-docs/stable/user_guide/indexing.html#returning-a-view-versus-a-copy\n",
      "  dff.hosp_patients = dff.hosp_patients.interpolate()\n"
     ]
    },
    {
     "data": {
      "text/plain": [
       "73"
      ]
     },
     "execution_count": 21,
     "metadata": {},
     "output_type": "execute_result"
    }
   ],
   "source": [
    "# sostituzione dei NULLI \"FRA\"\n",
    "dff = df[fra]\n",
    "dff.hosp_patients = dff.hosp_patients.interpolate()\n",
    "dff.hosp_patients.isna().sum()"
   ]
  },
  {
   "cell_type": "code",
   "execution_count": 22,
   "id": "6f7fd3d5-83a9-425f-ae15-d4e2e5f95bcc",
   "metadata": {},
   "outputs": [
    {
     "name": "stderr",
     "output_type": "stream",
     "text": [
      "C:\\Users\\tiari\\AppData\\Local\\Temp\\ipykernel_42644\\4132730732.py:3: SettingWithCopyWarning: \n",
      "A value is trying to be set on a copy of a slice from a DataFrame.\n",
      "Try using .loc[row_indexer,col_indexer] = value instead\n",
      "\n",
      "See the caveats in the documentation: https://pandas.pydata.org/pandas-docs/stable/user_guide/indexing.html#returning-a-view-versus-a-copy\n",
      "  dfi.hosp_patients = dfi.hosp_patients.interpolate()\n"
     ]
    },
    {
     "data": {
      "text/plain": [
       "50"
      ]
     },
     "execution_count": 22,
     "metadata": {},
     "output_type": "execute_result"
    }
   ],
   "source": [
    "# sostituzione dei NULLI \"ITA\"\n",
    "dfi = df[ita]\n",
    "dfi.hosp_patients = dfi.hosp_patients.interpolate()\n",
    "dfi.hosp_patients.isna().sum()"
   ]
  },
  {
   "cell_type": "code",
   "execution_count": 23,
   "id": "e1643f10-a8a8-487f-a887-5fc3141b56ee",
   "metadata": {},
   "outputs": [
    {
     "name": "stderr",
     "output_type": "stream",
     "text": [
      "C:\\Users\\tiari\\AppData\\Local\\Temp\\ipykernel_42644\\506486869.py:3: SettingWithCopyWarning: \n",
      "A value is trying to be set on a copy of a slice from a DataFrame.\n",
      "Try using .loc[row_indexer,col_indexer] = value instead\n",
      "\n",
      "See the caveats in the documentation: https://pandas.pydata.org/pandas-docs/stable/user_guide/indexing.html#returning-a-view-versus-a-copy\n",
      "  dfe.hosp_patients = dfe.hosp_patients.interpolate()\n"
     ]
    },
    {
     "data": {
      "text/plain": [
       "209"
      ]
     },
     "execution_count": 23,
     "metadata": {},
     "output_type": "execute_result"
    }
   ],
   "source": [
    "# sostituzione dei NULLI \"ESP\"\n",
    "dfe = df[df[\"iso_code\"] ==\"ESP\"]\n",
    "dfe.hosp_patients = dfe.hosp_patients.interpolate()\n",
    "dfe.hosp_patients.isna().sum()"
   ]
  },
  {
   "cell_type": "code",
   "execution_count": 24,
   "id": "c850e684-7db3-427a-befa-64e6cc9d602f",
   "metadata": {},
   "outputs": [
    {
     "name": "stderr",
     "output_type": "stream",
     "text": [
      "C:\\Users\\tiari\\AppData\\Local\\Temp\\ipykernel_42644\\3981455232.py:3: SettingWithCopyWarning: \n",
      "A value is trying to be set on a copy of a slice from a DataFrame.\n",
      "Try using .loc[row_indexer,col_indexer] = value instead\n",
      "\n",
      "See the caveats in the documentation: https://pandas.pydata.org/pandas-docs/stable/user_guide/indexing.html#returning-a-view-versus-a-copy\n",
      "  dfd.hosp_patients = dfd.hosp_patients.interpolate()\n"
     ]
    }
   ],
   "source": [
    "# sostituzione dei NULLI \"DEU\" (anche se sono 0 data l'assenza di dati, mi serviva per il concat...)\n",
    "dfd = df[deu]\n",
    "dfd.hosp_patients = dfd.hosp_patients.interpolate()"
   ]
  },
  {
   "cell_type": "code",
   "execution_count": 25,
   "id": "1876fdcb-1fa6-4601-8e8b-2328f1c6bee0",
   "metadata": {},
   "outputs": [],
   "source": [
    "# creazione di un DataFrame contenente la sostituzione dei nulli per ogni stato indicato\n",
    "db = pd.concat([dff, dfi, dfe, dfd])"
   ]
  },
  {
   "cell_type": "code",
   "execution_count": 26,
   "id": "3799597a-e223-4188-a72e-c65bffc37862",
   "metadata": {},
   "outputs": [],
   "source": [
    "# b. se ci sono dati nulli, con un breve commento scrivere se può essere possibile gestirli tramite sostituzione o meno\n",
    "# ---> E' POSSIBILE GESTIRE I DATI NULLI?\n",
    "#  Diciamo che per rispondere a questa domanda ed alla traccia in sè bisogna fare un'analisi del contesto attuale e di ciò che viene richiesto; ho deciso di riportare entrambe le soluzioni per un semplice motivo: è un'esercitazione. Mi sembrava la cosa migliore provare a risolvere il \"problema\" nel modo più sensato possibile (quindi tramite .interpolate(), con una media per non falsare l'analisi), ma nel contesto effettivo della traccia non avrei sostituito i dati nulli, perché stiamo parlando di un contesto e di dati molto delicati e tentare di sostituirli potrebbe facilmente portare ad invalidare l'intera analisi dando un risultato non idoneo."
   ]
  },
  {
   "cell_type": "code",
   "execution_count": 27,
   "id": "5e766ec8-d06e-4d3f-ba47-b0d3d8d5904f",
   "metadata": {},
   "outputs": [
    {
     "data": {
      "text/plain": [
       "iso_code\n",
       "ESP     737054.0\n",
       "ITA    1175272.0\n",
       "DEU          0.0\n",
       "FRA    4998549.0\n",
       "Name: hosp_patients, dtype: float64"
      ]
     },
     "execution_count": 27,
     "metadata": {},
     "output_type": "execute_result"
    }
   ],
   "source": [
    "filtro_2023 = db.date.dt.year == 2023\n",
    "filtrodf_2023 = df.date.dt.year == 2023\n",
    "db = db.loc[filtro_2023]\n",
    "df_23 = df.loc[filtrodf_2023]\n",
    "\n",
    "df_group_iso_interpolate = db.groupby(\"iso_code\")[\"hosp_patients\"].sum() \n",
    "df_group_iso = df_23.groupby(\"iso_code\")[\"hosp_patients\"].sum() \n",
    "\n",
    "df_group_iso_interpolate.loc[[\"ESP\", \"ITA\", \"DEU\", \"FRA\"]] # dataframe 2023 con valori nulli sostituiti [.interpolate()] "
   ]
  },
  {
   "cell_type": "code",
   "execution_count": 28,
   "id": "0e7398fb-d36f-4fb6-a2be-e9478dbec0cd",
   "metadata": {},
   "outputs": [
    {
     "data": {
      "text/plain": [
       "iso_code\n",
       "ESP     354602.0\n",
       "ITA    1175272.0\n",
       "DEU          0.0\n",
       "FRA    1382574.0\n",
       "Name: hosp_patients, dtype: float64"
      ]
     },
     "execution_count": 28,
     "metadata": {},
     "output_type": "execute_result"
    }
   ],
   "source": [
    "df_group_iso.loc[[\"ESP\", \"ITA\", \"DEU\", \"FRA\"]] # dataframe 2023 SENZA aver sostituito i nulli"
   ]
  },
  {
   "cell_type": "code",
   "execution_count": null,
   "id": "96662ef0-f17e-4212-a8ae-fc818e1f0697",
   "metadata": {},
   "outputs": [],
   "source": []
  }
 ],
 "metadata": {
  "kernelspec": {
   "display_name": "Python 3 (ipykernel)",
   "language": "python",
   "name": "python3"
  },
  "language_info": {
   "codemirror_mode": {
    "name": "ipython",
    "version": 3
   },
   "file_extension": ".py",
   "mimetype": "text/x-python",
   "name": "python",
   "nbconvert_exporter": "python",
   "pygments_lexer": "ipython3",
   "version": "3.12.7"
  }
 },
 "nbformat": 4,
 "nbformat_minor": 5
}
